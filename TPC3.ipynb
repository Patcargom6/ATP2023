{
 "cells": [
  {
   "cell_type": "code",
   "execution_count": 7,
   "metadata": {},
   "outputs": [],
   "source": [
    "import random # to generate a random number using the radint function\n"
   ]
  },
  {
   "cell_type": "code",
   "execution_count": 9,
   "metadata": {},
   "outputs": [
    {
     "name": "stdout",
     "output_type": "stream",
     "text": [
      "hello, please enter your name player;)\n",
      "Thanks,Patricia. please enter any number 1 and 100, dont forget u have only 10 attempts;)\n"
     ]
    }
   ],
   "source": [
    "print(\"hello, please enter your name player;)\")\n",
    "player_name = str(input(\" your name\"))\n",
    "secret_number = random.randint(1,100) # to generate a random number usind the radintr function and since it is inside the random module random.radint\n",
    "print( \"Thanks,\" + player_name +  \". please enter any number 1 and 100, dont forget u have only 10 attempts;)\")\n",
    "\n"
   ]
  },
  {
   "cell_type": "code",
   "execution_count": 14,
   "metadata": {},
   "outputs": [
    {
     "ename": "TypeError",
     "evalue": "int() argument must be a string, a bytes-like object or a real number, not 'method'",
     "output_type": "error",
     "traceback": [
      "\u001b[1;31m---------------------------------------------------------------------------\u001b[0m",
      "\u001b[1;31mTypeError\u001b[0m                                 Traceback (most recent call last)",
      "\u001b[1;32mc:\\Users\\35196\\Desktop\\Programming lesson\\Aula3.ipynb\\TPC3.ipynb Cell 3\u001b[0m line \u001b[0;36m2\n\u001b[0;32m      <a href='vscode-notebook-cell:/c%3A/Users/35196/Desktop/Programming%20lesson/Aula3.ipynb/TPC3.ipynb#W6sZmlsZQ%3D%3D?line=0'>1</a>\u001b[0m \u001b[39mfor\u001b[39;00m total_guesses \u001b[39min\u001b[39;00m \u001b[39mrange\u001b[39m(\u001b[39m10\u001b[39m): \u001b[39m# using the for loop and the range 5 will provide a restriction to the number of guesses the user can use\u001b[39;00m\n\u001b[1;32m----> <a href='vscode-notebook-cell:/c%3A/Users/35196/Desktop/Programming%20lesson/Aula3.ipynb/TPC3.ipynb#W6sZmlsZQ%3D%3D?line=1'>2</a>\u001b[0m     guess \u001b[39m=\u001b[39m \u001b[39mint\u001b[39;49m(\u001b[39minput\u001b[39;49m) \u001b[39m# using the guess variable the player can input the number and it is stored in the guess variable\u001b[39;00m\n\u001b[0;32m      <a href='vscode-notebook-cell:/c%3A/Users/35196/Desktop/Programming%20lesson/Aula3.ipynb/TPC3.ipynb#W6sZmlsZQ%3D%3D?line=2'>3</a>\u001b[0m     \u001b[39mif\u001b[39;00m guess \u001b[39m<\u001b[39m secret_number:\n\u001b[0;32m      <a href='vscode-notebook-cell:/c%3A/Users/35196/Desktop/Programming%20lesson/Aula3.ipynb/TPC3.ipynb#W6sZmlsZQ%3D%3D?line=3'>4</a>\u001b[0m         \u001b[39mprint\u001b[39m(\u001b[39m\"\u001b[39m\u001b[39mYour guess is a little below the number ;) , go ahead and try again, go a little higher :)\u001b[39m\u001b[39m\"\u001b[39m)\n",
      "\u001b[1;31mTypeError\u001b[0m: int() argument must be a string, a bytes-like object or a real number, not 'method'"
     ]
    }
   ],
   "source": [
    "for total_guesses in range(10): # using the for loop and the range 5 will provide a restriction to the number of guesses the user can use\n",
    "    guess = int(input) # using the guess variable the player can input the number and it is stored in the guess variable\n",
    "    if guess < secret_number:\n",
    "        print(\"Your guess is a little below the number ;) , go ahead and try again, go a little higher :)\")\n",
    "    elif guess > secret_number:\n",
    "        print (\"Uff your guess is a little high:), go ahead and try again and go a\" + \"player_name\")\n",
    "    elif guess == secret_number:\n",
    "        total_guesses = str(total_guesses + 1)\n",
    "        print(player_name + \"it took you\" + total_guesses + \" to get to the answer u were looking for ;)\")\n",
    "    else:\n",
    "        print(\"Ooo~ps, the number i was thinking was\"+ secret_number + \".\" )\n"
   ]
  }
 ],
 "metadata": {
  "kernelspec": {
   "display_name": "Python 3",
   "language": "python",
   "name": "python3"
  },
  "language_info": {
   "codemirror_mode": {
    "name": "ipython",
    "version": 3
   },
   "file_extension": ".py",
   "mimetype": "text/x-python",
   "name": "python",
   "nbconvert_exporter": "python",
   "pygments_lexer": "ipython3",
   "version": "3.11.5"
  },
  "orig_nbformat": 4
 },
 "nbformat": 4,
 "nbformat_minor": 2
}
