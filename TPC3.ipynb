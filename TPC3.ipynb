{
 "cells": [
  {
   "cell_type": "markdown",
   "metadata": {},
   "source": [
    "## TPC3: Adivinha o número!?\n",
    "\n",
    "Desenvolve em Python o código necessário para o jogo do Adivinha o número: \n",
    "* O jogo deverá ter dois modos: o computador tenta acertar no número que o jogador pensou ou, o jogador tenta acertar no número que o computador pensou; \n",
    "* No fim, o programa deverá indicar quantas tentativas foram realizadas para chegar ao resultado;\n",
    "* O Jogo: \n",
    "    - o utilizador pensa num número entre 0 e 100;\n",
    "    - o computador tenta adivinhar indicando um número do intervalo;\n",
    "    - o utilizador indica se o número em que pensou é **maior**, **menor**, ou se o computador **acertou**;\n",
    "    - ao terminar, o programa imprime o número de tentativas que o computador teve de fazer até chegar ao número.\n",
    "\n",
    "Que conclusão podes tirar sobre o número de tentativas necessárias para um número entre 0 e 100? E se fosse entre 0 e 1000?"
   ]
  },
  {
   "cell_type": "code",
   "execution_count": 3,
   "metadata": {},
   "outputs": [],
   "source": [
    "import random\n"
   ]
  },
  {
   "cell_type": "code",
   "execution_count": 7,
   "metadata": {},
   "outputs": [],
   "source": [
    "def modo_jogador():\n",
    "  número_pensado = random.randint(0, 100) \n",
    "  tries = 0\n",
    "\n",
    "  # Infinite Loop\n",
    "  while True:\n",
    "    tries += 1\n",
    "    guess = int(input(\"Advinha um número entre 0 e 100: \"))\n",
    "    \n",
    "    if número_pensado < guess:\n",
    "      print(\"O numero é menor, tenta outra vez\")\n",
    "    elif número_pensado > guess:\n",
    "      print(\"O numero é maior, tenta novamente\")\n",
    "    else:\n",
    "      print(f\"Acertaste!! Tiveste {tries} tentativas\")\n",
    "      break\n"
   ]
  },
  {
   "cell_type": "code",
   "execution_count": 17,
   "metadata": {},
   "outputs": [
    {
     "ename": "NameError",
     "evalue": "name 'limite_inferior' is not defined",
     "output_type": "error",
     "traceback": [
      "\u001b[1;31m---------------------------------------------------------------------------\u001b[0m",
      "\u001b[1;31mNameError\u001b[0m                                 Traceback (most recent call last)",
      "\u001b[1;32mc:\\Users\\35196\\Desktop\\Programming lesson\\Aula3.ipynb\\TPC3.ipynb Cell 4\u001b[0m line \u001b[0;36m1\n\u001b[0;32m      <a href='vscode-notebook-cell:/c%3A/Users/35196/Desktop/Programming%20lesson/Aula3.ipynb/TPC3.ipynb#W5sZmlsZQ%3D%3D?line=6'>7</a>\u001b[0m     \u001b[39mprint\u001b[39m(\u001b[39m\"\u001b[39m\u001b[39mEspera enquanto que o computador advinha\u001b[39m\u001b[39m\"\u001b[39m)\n\u001b[0;32m      <a href='vscode-notebook-cell:/c%3A/Users/35196/Desktop/Programming%20lesson/Aula3.ipynb/TPC3.ipynb#W5sZmlsZQ%3D%3D?line=8'>9</a>\u001b[0m \u001b[39mwhile\u001b[39;00m \u001b[39mTrue\u001b[39;00m:\n\u001b[1;32m---> <a href='vscode-notebook-cell:/c%3A/Users/35196/Desktop/Programming%20lesson/Aula3.ipynb/TPC3.ipynb#W5sZmlsZQ%3D%3D?line=9'>10</a>\u001b[0m      tries \u001b[39m=\u001b[39m random\u001b[39m.\u001b[39mrandint(limite_inferior , limite_superior)\n\u001b[0;32m     <a href='vscode-notebook-cell:/c%3A/Users/35196/Desktop/Programming%20lesson/Aula3.ipynb/TPC3.ipynb#W5sZmlsZQ%3D%3D?line=10'>11</a>\u001b[0m      tries \u001b[39m+\u001b[39m\u001b[39m=\u001b[39m \u001b[39m1\u001b[39m\n\u001b[0;32m     <a href='vscode-notebook-cell:/c%3A/Users/35196/Desktop/Programming%20lesson/Aula3.ipynb/TPC3.ipynb#W5sZmlsZQ%3D%3D?line=12'>13</a>\u001b[0m      \u001b[39mprint\u001b[39m(\u001b[39mf\u001b[39m\u001b[39m\"\u001b[39m\u001b[39mO computador adivinhou: \u001b[39m\u001b[39m{\u001b[39;00mtries\u001b[39m}\u001b[39;00m\u001b[39m\"\u001b[39m)\n",
      "\u001b[1;31mNameError\u001b[0m: name 'limite_inferior' is not defined"
     ]
    }
   ],
   "source": [
    "def computador_advinha():\n",
    "    número_pensado: int(input(\"Pensa num número de 1 a 100\"))\n",
    "    tries = 0 \n",
    "    limite_superior = 100\n",
    "    limite_inferior = 0 \n",
    "\n",
    "    print(\"Espera enquanto que o computador advinha\")\n",
    "\n",
    "while True:\n",
    "     tries = random.randint(limite_inferior , limite_superior)\n",
    "     tries += 1\n",
    "        \n",
    "     print(f\"O computador adivinhou: {tries}\")\n",
    "        \n",
    "     if tries < número_pensado:\n",
    "            print(\"O número é maior.\")\n",
    "            limite_inferior = tries + 1\n",
    "     elif tries > número_pensado:\n",
    "            print(\"O número é menor.\")\n",
    "            limite_superior = tries - 1\n",
    "     else:\n",
    "            print(f\"O computador acertou em {tries} tentativas.\")\n",
    "            modo_jogo = input(\"Escolha o modo de jogo (Jogador adivinha: 'jogador' / Computador adivinha: 'computador'): \")\n",
    "\n",
    "if modo_jogo == 'jogador':\n",
    "    jogador_adivinha()\n",
    "elif modo_jogo == 'computador':\n",
    "    computador_adivinha()\n",
    "else:\n",
    "    print(\"não foi possivel determinar o modo de joogo. Escolha 'jogador' ou 'computador'.\")\n",
    "\n",
    "\n",
    "            \n",
    "\n",
    "\n",
    "\n"
   ]
  }
 ],
 "metadata": {
  "kernelspec": {
   "display_name": "Python 3",
   "language": "python",
   "name": "python3"
  },
  "language_info": {
   "codemirror_mode": {
    "name": "ipython",
    "version": 3
   },
   "file_extension": ".py",
   "mimetype": "text/x-python",
   "name": "python",
   "nbconvert_exporter": "python",
   "pygments_lexer": "ipython3",
   "version": "3.11.5"
  },
  "orig_nbformat": 4
 },
 "nbformat": 4,
 "nbformat_minor": 2
}
