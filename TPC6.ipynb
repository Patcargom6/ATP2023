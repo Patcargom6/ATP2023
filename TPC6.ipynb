{
 "cells": [
  {
   "cell_type": "markdown",
   "id": "4193a91b",
   "metadata": {},
   "source": [
    "### TPC6: Análise de dados: doença cardíaca\n",
    "\n",
    "Descarregue o ficheiro de dados: [diabetes_prediction_dataset.csv](./datasets/diabetes_prediction_dataset.csv.zip).\n",
    "\n",
    "Encontra mais informação sobre este conjunto de dados [aqui](https://www.kaggle.com/datasets/iammustafatz/diabetes-prediction-dataset).\n",
    "\n",
    "Crie um programa em Python, conjunto de funções, que responda às seguintes questões:\n",
    "* Crie uma função que lê a informação do ficheiro para um modelo, previamente pensado em memória;\n",
    "* Crie uma função que calcula a distribuição da doença por sexo (tenha atenção que indivíduos doentes e não doentes no dataset);\n",
    "* Crie uma função que calcula a distribuição da doença por escalões etários. Considere os seguintes escalões: [0-10], [11-24], [25-29], [30-34], [35-39], [40-44], ...\n",
    "* Crie uma função que calcula a distribuição da doença por níveis de glucose. Considere um nível igual a um intervalo de 10 unidades, comece no limite inferior e crie os níveis necessários até abranger o limite superior;\n",
    "* Crie uma função que imprime na forma de uma tabela uma distribuição;\n",
    "* Especifique um programa que ao executar apresenta as tabelas correspondentes às distribuições pedidas."
   ]
  },
  {
   "cell_type": "code",
   "execution_count": 1,
   "id": "1765ff9e",
   "metadata": {},
   "outputs": [
    {
     "ename": "NameError",
     "evalue": "name 'file' is not defined",
     "output_type": "error",
     "traceback": [
      "\u001b[1;31m---------------------------------------------------------------------------\u001b[0m",
      "\u001b[1;31mNameError\u001b[0m                                 Traceback (most recent call last)",
      "\u001b[1;32mc:\\Users\\35196\\AppData\\Local\\Microsoft\\Windows\\INetCache\\IE\\B0Y7XT02\\TPC6.ipynb Cell 2\u001b[0m line \u001b[0;36m3\n\u001b[0;32m     <a href='vscode-notebook-cell:/c%3A/Users/35196/AppData/Local/Microsoft/Windows/INetCache/IE/B0Y7XT02/TPC6.ipynb#W1sZmlsZQ%3D%3D?line=34'>35</a>\u001b[0m     \u001b[39mfor\u001b[39;00m key, value \u001b[39min\u001b[39;00m distribution\u001b[39m.\u001b[39mitems():\n\u001b[0;32m     <a href='vscode-notebook-cell:/c%3A/Users/35196/AppData/Local/Microsoft/Windows/INetCache/IE/B0Y7XT02/TPC6.ipynb#W1sZmlsZQ%3D%3D?line=35'>36</a>\u001b[0m         \u001b[39mprint\u001b[39m(\u001b[39mf\u001b[39m\u001b[39m\"\u001b[39m\u001b[39m{\u001b[39;00mkey\u001b[39m}\u001b[39;00m\u001b[39m: \u001b[39m\u001b[39m{\u001b[39;00mvalue\u001b[39m}\u001b[39;00m\u001b[39m\"\u001b[39m)\n\u001b[1;32m---> <a href='vscode-notebook-cell:/c%3A/Users/35196/AppData/Local/Microsoft/Windows/INetCache/IE/B0Y7XT02/TPC6.ipynb#W1sZmlsZQ%3D%3D?line=38'>39</a>\u001b[0m file\u001b[39m.\u001b[39mclose(csv)\n",
      "\u001b[1;31mNameError\u001b[0m: name 'file' is not defined"
     ]
    }
   ],
   "source": [
    "import csv\n",
    "\n",
    "def d_gender(data):\n",
    "    d_gender = {\"M\": 0, \"F\": 0}\n",
    "    for n in data:\n",
    "        if n[\"gender\"] == \"M\":\n",
    "            d_gender[\"M\"] += 1\n",
    "        elif n[\"gender\"] == \"F\":\n",
    "            d_gender[\"F\"] += 1\n",
    "    return d_gender\n",
    "\n",
    "def d_age(data):\n",
    "    age_group = [0, 10, 25, 30, 35, 40, 45, 50, 55, 60, 65, 70, 75, 1000]\n",
    "    for n in data:\n",
    "        age = int([\"Age\"])\n",
    "        for i in range(len(age_group) - 1):\n",
    "            if age_group[i] <= age < age_group[i + 1]:\n",
    "                d_age[age_group[i]] += 1\n",
    "    return d_age\n",
    "\n",
    "def d_glucose(data):\n",
    "    interval = 1\n",
    "    max = max(int(record[\"Glucose\"]) for record in data)\n",
    "    min = min(int(record[\"Glucose\"]) for record in data)\n",
    "    \n",
    "    distribuition_glucose = {}\n",
    "    \n",
    "    for i in range(min, max + 1, interval):\n",
    "        s = i + interval - 1\n",
    "    \n",
    "    return d_glucose\n",
    "\n",
    "def print(distribution, title):\n",
    "    print(f\"{title}\")\n",
    "    for key, value in distribution.items():\n",
    "        print(f\"{key}: {value}\")\n",
    "\n",
    "\n",
    "file.close(csv)"
   ]
  }
 ],
 "metadata": {
  "kernelspec": {
   "display_name": "Python 3.9.1 64-bit",
   "language": "python",
   "name": "python3"
  },
  "language_info": {
   "codemirror_mode": {
    "name": "ipython",
    "version": 3
   },
   "file_extension": ".py",
   "mimetype": "text/x-python",
   "name": "python",
   "nbconvert_exporter": "python",
   "pygments_lexer": "ipython3",
   "version": "3.11.5"
  },
  "vscode": {
   "interpreter": {
    "hash": "aee8b7b246df8f9039afb4144a1f6fd8d2ca17a180786b69acc140d282b71a49"
   }
  }
 },
 "nbformat": 4,
 "nbformat_minor": 5
}
